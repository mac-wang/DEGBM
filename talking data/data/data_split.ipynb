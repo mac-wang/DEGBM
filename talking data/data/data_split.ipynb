{
 "cells": [
  {
   "cell_type": "code",
   "execution_count": 1,
   "metadata": {},
   "outputs": [],
   "source": [
    "import pandas as pd"
   ]
  },
  {
   "cell_type": "code",
   "execution_count": 2,
   "metadata": {},
   "outputs": [],
   "source": [
    "data = pd.read_csv('train.csv')"
   ]
  },
  {
   "cell_type": "code",
   "execution_count": 3,
   "metadata": {},
   "outputs": [
    {
     "data": {
      "text/plain": [
       "0    184447044\n",
       "1       456846\n",
       "Name: is_attributed, dtype: int64"
      ]
     },
     "execution_count": 3,
     "metadata": {},
     "output_type": "execute_result"
    }
   ],
   "source": [
    "len(data)\n",
    "data['is_attributed'].value_counts()"
   ]
  },
  {
   "cell_type": "code",
   "execution_count": 4,
   "metadata": {},
   "outputs": [],
   "source": [
    "anomalies = data.loc[data['is_attributed'] != 0].copy()\n",
    "normals = data.loc[~data.index.isin(anomalies.index)]"
   ]
  },
  {
   "cell_type": "code",
   "execution_count": 5,
   "metadata": {},
   "outputs": [
    {
     "data": {
      "text/plain": [
       "1    456846\n",
       "Name: is_attributed, dtype: int64"
      ]
     },
     "execution_count": 5,
     "metadata": {},
     "output_type": "execute_result"
    }
   ],
   "source": [
    "anomalies['is_attributed'].value_counts()"
   ]
  },
  {
   "cell_type": "code",
   "execution_count": 10,
   "metadata": {},
   "outputs": [
    {
     "data": {
      "text/plain": [
       "0    184447044\n",
       "Name: is_attributed, dtype: int64"
      ]
     },
     "execution_count": 10,
     "metadata": {},
     "output_type": "execute_result"
    }
   ],
   "source": [
    "normals['is_attributed'].value_counts()"
   ]
  },
  {
   "cell_type": "code",
   "execution_count": 37,
   "metadata": {},
   "outputs": [
    {
     "data": {
      "text/plain": [
       "184447044"
      ]
     },
     "execution_count": 37,
     "metadata": {},
     "output_type": "execute_result"
    }
   ],
   "source": [
    "len(normals)"
   ]
  },
  {
   "cell_type": "code",
   "execution_count": 38,
   "metadata": {
    "scrolled": true
   },
   "outputs": [],
   "source": [
    "sub_normals = normals[normals.groupby('ip').ip.transform(len)>10000]"
   ]
  },
  {
   "cell_type": "code",
   "execution_count": 39,
   "metadata": {},
   "outputs": [
    {
     "data": {
      "text/html": [
       "<div>\n",
       "<style scoped>\n",
       "    .dataframe tbody tr th:only-of-type {\n",
       "        vertical-align: middle;\n",
       "    }\n",
       "\n",
       "    .dataframe tbody tr th {\n",
       "        vertical-align: top;\n",
       "    }\n",
       "\n",
       "    .dataframe thead th {\n",
       "        text-align: right;\n",
       "    }\n",
       "</style>\n",
       "<table border=\"1\" class=\"dataframe\">\n",
       "  <thead>\n",
       "    <tr style=\"text-align: right;\">\n",
       "      <th></th>\n",
       "      <th>ip</th>\n",
       "      <th>app</th>\n",
       "      <th>device</th>\n",
       "      <th>os</th>\n",
       "      <th>channel</th>\n",
       "      <th>click_time</th>\n",
       "      <th>attributed_time</th>\n",
       "      <th>is_attributed</th>\n",
       "    </tr>\n",
       "  </thead>\n",
       "  <tbody>\n",
       "    <tr>\n",
       "      <th>0</th>\n",
       "      <td>83230</td>\n",
       "      <td>3</td>\n",
       "      <td>1</td>\n",
       "      <td>13</td>\n",
       "      <td>379</td>\n",
       "      <td>2017-11-06 14:32:21</td>\n",
       "      <td>NaN</td>\n",
       "      <td>0</td>\n",
       "    </tr>\n",
       "    <tr>\n",
       "      <th>1</th>\n",
       "      <td>17357</td>\n",
       "      <td>3</td>\n",
       "      <td>1</td>\n",
       "      <td>19</td>\n",
       "      <td>379</td>\n",
       "      <td>2017-11-06 14:33:34</td>\n",
       "      <td>NaN</td>\n",
       "      <td>0</td>\n",
       "    </tr>\n",
       "    <tr>\n",
       "      <th>3</th>\n",
       "      <td>45745</td>\n",
       "      <td>14</td>\n",
       "      <td>1</td>\n",
       "      <td>13</td>\n",
       "      <td>478</td>\n",
       "      <td>2017-11-06 14:34:52</td>\n",
       "      <td>NaN</td>\n",
       "      <td>0</td>\n",
       "    </tr>\n",
       "    <tr>\n",
       "      <th>11</th>\n",
       "      <td>105861</td>\n",
       "      <td>3</td>\n",
       "      <td>1</td>\n",
       "      <td>13</td>\n",
       "      <td>379</td>\n",
       "      <td>2017-11-06 14:38:51</td>\n",
       "      <td>NaN</td>\n",
       "      <td>0</td>\n",
       "    </tr>\n",
       "    <tr>\n",
       "      <th>22</th>\n",
       "      <td>125222</td>\n",
       "      <td>14</td>\n",
       "      <td>1</td>\n",
       "      <td>3</td>\n",
       "      <td>478</td>\n",
       "      <td>2017-11-06 14:44:51</td>\n",
       "      <td>NaN</td>\n",
       "      <td>0</td>\n",
       "    </tr>\n",
       "  </tbody>\n",
       "</table>\n",
       "</div>"
      ],
      "text/plain": [
       "        ip  app  device  os  channel           click_time attributed_time  \\\n",
       "0    83230    3       1  13      379  2017-11-06 14:32:21             NaN   \n",
       "1    17357    3       1  19      379  2017-11-06 14:33:34             NaN   \n",
       "3    45745   14       1  13      478  2017-11-06 14:34:52             NaN   \n",
       "11  105861    3       1  13      379  2017-11-06 14:38:51             NaN   \n",
       "22  125222   14       1   3      478  2017-11-06 14:44:51             NaN   \n",
       "\n",
       "    is_attributed  \n",
       "0               0  \n",
       "1               0  \n",
       "3               0  \n",
       "11              0  \n",
       "22              0  "
      ]
     },
     "execution_count": 39,
     "metadata": {},
     "output_type": "execute_result"
    }
   ],
   "source": [
    "sub_normals.head()"
   ]
  },
  {
   "cell_type": "code",
   "execution_count": 40,
   "metadata": {
    "scrolled": true
   },
   "outputs": [
    {
     "name": "stdout",
     "output_type": "stream",
     "text": [
      "72811715\n"
     ]
    },
    {
     "data": {
      "text/plain": [
       "5348      1236394\n",
       "5314      1169248\n",
       "73516      769426\n",
       "73487      762763\n",
       "53454      498049\n",
       "114276     427385\n",
       "26995      401195\n",
       "95766      378314\n",
       "17149      310758\n",
       "105475     301907\n",
       "100275     276442\n",
       "43793      261701\n",
       "105560     259736\n",
       "86767      257490\n",
       "111025     247073\n",
       "137052     217309\n",
       "201182     212188\n",
       "5178       211120\n",
       "49602      199833\n",
       "5147       197595\n",
       "48282      188042\n",
       "48212      185827\n",
       "48240      182707\n",
       "48170      180550\n",
       "123994     176059\n",
       "209663     173333\n",
       "93587      171291\n",
       "84896      170013\n",
       "45745      168967\n",
       "119369     159163\n",
       "           ...   \n",
       "93953       10062\n",
       "110354      10060\n",
       "22529       10059\n",
       "72614       10058\n",
       "61584       10055\n",
       "1003        10052\n",
       "83699       10050\n",
       "112243      10047\n",
       "88124       10046\n",
       "56063       10045\n",
       "122711      10043\n",
       "96275       10038\n",
       "112217      10036\n",
       "53664       10030\n",
       "109800      10028\n",
       "9602        10026\n",
       "8660        10023\n",
       "71710       10022\n",
       "35180       10014\n",
       "59868       10011\n",
       "121979      10010\n",
       "42651       10010\n",
       "28089       10009\n",
       "4831        10008\n",
       "9136        10008\n",
       "53557       10007\n",
       "71071       10007\n",
       "18864       10006\n",
       "119758      10006\n",
       "35096       10001\n",
       "Name: ip, Length: 3224, dtype: int64"
      ]
     },
     "execution_count": 40,
     "metadata": {},
     "output_type": "execute_result"
    }
   ],
   "source": [
    "print(len(sub_normals))\n",
    "sub_normals['ip'].value_counts()"
   ]
  },
  {
   "cell_type": "code",
   "execution_count": 41,
   "metadata": {},
   "outputs": [
    {
     "name": "stdout",
     "output_type": "stream",
     "text": [
      "72525408\n",
      "72459511\n",
      "72331514\n",
      "72259239\n"
     ]
    }
   ],
   "source": [
    "sub_normals = sub_normals[sub_normals.groupby('app').app.transform(len)>10000]\n",
    "print(len(sub_normals))\n",
    "sub_normals = sub_normals[sub_normals.groupby('device').device.transform(len)>10000]\n",
    "print(len(sub_normals))\n",
    "sub_normals = sub_normals[sub_normals.groupby('os').os.transform(len)>10000]\n",
    "print(len(sub_normals))\n",
    "sub_normals = sub_normals[sub_normals.groupby('channel').channel.transform(len)>10000]\n",
    "print(len(sub_normals))\n"
   ]
  },
  {
   "cell_type": "code",
   "execution_count": 42,
   "metadata": {},
   "outputs": [
    {
     "data": {
      "text/html": [
       "<div>\n",
       "<style scoped>\n",
       "    .dataframe tbody tr th:only-of-type {\n",
       "        vertical-align: middle;\n",
       "    }\n",
       "\n",
       "    .dataframe tbody tr th {\n",
       "        vertical-align: top;\n",
       "    }\n",
       "\n",
       "    .dataframe thead th {\n",
       "        text-align: right;\n",
       "    }\n",
       "</style>\n",
       "<table border=\"1\" class=\"dataframe\">\n",
       "  <thead>\n",
       "    <tr style=\"text-align: right;\">\n",
       "      <th></th>\n",
       "      <th>ip</th>\n",
       "      <th>app</th>\n",
       "      <th>device</th>\n",
       "      <th>os</th>\n",
       "      <th>channel</th>\n",
       "      <th>is_attributed</th>\n",
       "    </tr>\n",
       "  </thead>\n",
       "  <tbody>\n",
       "    <tr>\n",
       "      <th>count</th>\n",
       "      <td>7.225924e+07</td>\n",
       "      <td>7.225924e+07</td>\n",
       "      <td>7.225924e+07</td>\n",
       "      <td>7.225924e+07</td>\n",
       "      <td>7.225924e+07</td>\n",
       "      <td>72259239.0</td>\n",
       "    </tr>\n",
       "    <tr>\n",
       "      <th>mean</th>\n",
       "      <td>6.734109e+04</td>\n",
       "      <td>1.141332e+01</td>\n",
       "      <td>1.533564e+01</td>\n",
       "      <td>2.150276e+01</td>\n",
       "      <td>2.637570e+02</td>\n",
       "      <td>0.0</td>\n",
       "    </tr>\n",
       "    <tr>\n",
       "      <th>std</th>\n",
       "      <td>4.284476e+04</td>\n",
       "      <td>1.249575e+01</td>\n",
       "      <td>2.161778e+02</td>\n",
       "      <td>4.716144e+01</td>\n",
       "      <td>1.284196e+02</td>\n",
       "      <td>0.0</td>\n",
       "    </tr>\n",
       "    <tr>\n",
       "      <th>min</th>\n",
       "      <td>5.960000e+02</td>\n",
       "      <td>1.000000e+00</td>\n",
       "      <td>0.000000e+00</td>\n",
       "      <td>0.000000e+00</td>\n",
       "      <td>3.000000e+00</td>\n",
       "      <td>0.0</td>\n",
       "    </tr>\n",
       "    <tr>\n",
       "      <th>25%</th>\n",
       "      <td>3.493900e+04</td>\n",
       "      <td>3.000000e+00</td>\n",
       "      <td>1.000000e+00</td>\n",
       "      <td>1.300000e+01</td>\n",
       "      <td>1.400000e+02</td>\n",
       "      <td>0.0</td>\n",
       "    </tr>\n",
       "    <tr>\n",
       "      <th>50%</th>\n",
       "      <td>6.775100e+04</td>\n",
       "      <td>1.100000e+01</td>\n",
       "      <td>1.000000e+00</td>\n",
       "      <td>1.800000e+01</td>\n",
       "      <td>2.450000e+02</td>\n",
       "      <td>0.0</td>\n",
       "    </tr>\n",
       "    <tr>\n",
       "      <th>75%</th>\n",
       "      <td>1.000420e+05</td>\n",
       "      <td>1.500000e+01</td>\n",
       "      <td>1.000000e+00</td>\n",
       "      <td>1.900000e+01</td>\n",
       "      <td>3.790000e+02</td>\n",
       "      <td>0.0</td>\n",
       "    </tr>\n",
       "    <tr>\n",
       "      <th>max</th>\n",
       "      <td>3.633640e+05</td>\n",
       "      <td>1.830000e+02</td>\n",
       "      <td>3.866000e+03</td>\n",
       "      <td>8.660000e+02</td>\n",
       "      <td>4.970000e+02</td>\n",
       "      <td>0.0</td>\n",
       "    </tr>\n",
       "  </tbody>\n",
       "</table>\n",
       "</div>"
      ],
      "text/plain": [
       "                 ip           app        device            os       channel  \\\n",
       "count  7.225924e+07  7.225924e+07  7.225924e+07  7.225924e+07  7.225924e+07   \n",
       "mean   6.734109e+04  1.141332e+01  1.533564e+01  2.150276e+01  2.637570e+02   \n",
       "std    4.284476e+04  1.249575e+01  2.161778e+02  4.716144e+01  1.284196e+02   \n",
       "min    5.960000e+02  1.000000e+00  0.000000e+00  0.000000e+00  3.000000e+00   \n",
       "25%    3.493900e+04  3.000000e+00  1.000000e+00  1.300000e+01  1.400000e+02   \n",
       "50%    6.775100e+04  1.100000e+01  1.000000e+00  1.800000e+01  2.450000e+02   \n",
       "75%    1.000420e+05  1.500000e+01  1.000000e+00  1.900000e+01  3.790000e+02   \n",
       "max    3.633640e+05  1.830000e+02  3.866000e+03  8.660000e+02  4.970000e+02   \n",
       "\n",
       "       is_attributed  \n",
       "count     72259239.0  \n",
       "mean             0.0  \n",
       "std              0.0  \n",
       "min              0.0  \n",
       "25%              0.0  \n",
       "50%              0.0  \n",
       "75%              0.0  \n",
       "max              0.0  "
      ]
     },
     "execution_count": 42,
     "metadata": {},
     "output_type": "execute_result"
    }
   ],
   "source": [
    "sub_normals.describe()"
   ]
  },
  {
   "cell_type": "code",
   "execution_count": 47,
   "metadata": {},
   "outputs": [],
   "source": [
    "sub_normals_1percent = sub_normals.sample(n=685269)"
   ]
  },
  {
   "cell_type": "code",
   "execution_count": 48,
   "metadata": {},
   "outputs": [],
   "source": [
    "sub_normals_1percent.to_csv('sub_normals_1percent.csv', index=False)"
   ]
  },
  {
   "cell_type": "code",
   "execution_count": 19,
   "metadata": {},
   "outputs": [],
   "source": [
    "sub_normals.to_csv('sub_normals.csv', index=False)\n",
    "# anomalies.to_csv('anomalies.csv', index=False)"
   ]
  },
  {
   "cell_type": "code",
   "execution_count": null,
   "metadata": {},
   "outputs": [],
   "source": []
  }
 ],
 "metadata": {
  "kernelspec": {
   "display_name": "Python 3",
   "language": "python",
   "name": "python3"
  },
  "language_info": {
   "codemirror_mode": {
    "name": "ipython",
    "version": 3
   },
   "file_extension": ".py",
   "mimetype": "text/x-python",
   "name": "python",
   "nbconvert_exporter": "python",
   "pygments_lexer": "ipython3",
   "version": "3.6.6"
  }
 },
 "nbformat": 4,
 "nbformat_minor": 2
}
